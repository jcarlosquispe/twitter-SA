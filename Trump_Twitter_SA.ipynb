{
 "cells": [
  {
   "cell_type": "markdown",
   "metadata": {},
   "source": [
    "## Sentiment Analysis for Donald Trump \n",
    "@realDonaldTrump in Twitter </p>\n",
    "@NicolasMaduro in Twitter\n",
    "\n",
    "Fork: https://dev.to/rodolfoferro/sentiment-analysis-on-trumpss-tweets-using-python-"
   ]
  },
  {
   "cell_type": "code",
   "execution_count": 1,
   "metadata": {},
   "outputs": [],
   "source": [
    "# General:\n",
    "import tweepy           # To consume Twitter's API\n",
    "import pandas as pd     # To handle data\n",
    "import numpy as np      # For number computing\n",
    "\n",
    "# For plotting and visualization:\n",
    "from IPython.display import display\n",
    "import matplotlib.pyplot as plt\n",
    "import seaborn as sns\n",
    "%matplotlib inline"
   ]
  },
  {
   "cell_type": "code",
   "execution_count": 2,
   "metadata": {},
   "outputs": [],
   "source": [
    "# Twitter App access keys for @user\n",
    "\n",
    "# Consume:\n",
    "CONSUMER_KEY    = 'fO9NYxYUv1t570Hs47a7QXDXV'\n",
    "CONSUMER_SECRET = 'n4RoV93Z2bYpSrqEK32o3hj5n0jXnkYhYTnsmXVhD8hItb22yb'\n",
    "\n",
    "# Access:\n",
    "ACCESS_TOKEN  = '298729550-eksp6aFazmlOErMtrd4KqLEgIg5ttWHU5AmAb2ki'\n",
    "ACCESS_SECRET = 'RdvUZYsgGRBG2OWZxd08tlZpumuAWeCU5z48PGjdQbZrV'"
   ]
  },
  {
   "cell_type": "code",
   "execution_count": 4,
   "metadata": {},
   "outputs": [],
   "source": [
    "# We import our access keys:\n",
    "#from credentials import *    # This will allow us to use the keys as variables\n",
    "\n",
    "# API's setup:\n",
    "def twitter_setup():\n",
    "    \"\"\"\n",
    "    Utility function to setup the Twitter's API\n",
    "    with our access keys provided.\n",
    "    \"\"\"\n",
    "    # Authentication and access using keys:\n",
    "    auth = tweepy.OAuthHandler(CONSUMER_KEY, CONSUMER_SECRET)\n",
    "    auth.set_access_token(ACCESS_TOKEN, ACCESS_SECRET)\n",
    "\n",
    "    # Return API with authentication:\n",
    "    api = tweepy.API(auth)\n",
    "    return api"
   ]
  },
  {
   "cell_type": "code",
   "execution_count": 42,
   "metadata": {},
   "outputs": [
    {
     "name": "stdout",
     "output_type": "stream",
     "text": [
      "Number of tweets extracted: 100.\n",
      "\n",
      "5 recent tweets:\n",
      "\n",
      "I was a big fan of Frank Robinson, both as a great player and man. He was the first African American manager in bas… https://t.co/Nhe4v705Gr\n",
      "\n",
      "Deepest sympathies to Congresswoman Debbie Dingell and the entire family of John Dingell. Longest serving Congressm… https://t.co/wbvzKXJCR7\n",
      "\n",
      "Working hard, thank you! https://t.co/tnuHnw8kll\n",
      "\n",
      "...It is all a GIANT AND ILLEGAL HOAX, developed long before the election itself, but used as an excuse by the Demo… https://t.co/unCVqZ2Bnp\n",
      "\n",
      "The mainstream media has refused to cover the fact that the head of the VERY important Senate Intelligence Committe… https://t.co/5kJEIsX5Dt\n",
      "\n"
     ]
    }
   ],
   "source": [
    "# We create an extractor object:\n",
    "extractor = twitter_setup()\n",
    "\n",
    "# We create a tweet list as follows:\n",
    "tweets = extractor.user_timeline(screen_name=\"realDonaldTrump\", count=100)\n",
    "print(\"Number of tweets extracted: {}.\\n\".format(len(tweets)))\n",
    "\n",
    "# We print the most recent 5 tweets:\n",
    "print(\"5 recent tweets:\\n\")\n",
    "for tweet in tweets[:5]:\n",
    "    print(tweet.text)\n",
    "    print()"
   ]
  },
  {
   "cell_type": "code",
   "execution_count": 24,
   "metadata": {},
   "outputs": [
    {
     "data": {
      "text/html": [
       "<div>\n",
       "<style scoped>\n",
       "    .dataframe tbody tr th:only-of-type {\n",
       "        vertical-align: middle;\n",
       "    }\n",
       "\n",
       "    .dataframe tbody tr th {\n",
       "        vertical-align: top;\n",
       "    }\n",
       "\n",
       "    .dataframe thead th {\n",
       "        text-align: right;\n",
       "    }\n",
       "</style>\n",
       "<table border=\"1\" class=\"dataframe\">\n",
       "  <thead>\n",
       "    <tr style=\"text-align: right;\">\n",
       "      <th></th>\n",
       "      <th>Tweets</th>\n",
       "    </tr>\n",
       "  </thead>\n",
       "  <tbody>\n",
       "    <tr>\n",
       "      <th>0</th>\n",
       "      <td>I was a big fan of Frank Robinson, both as a g...</td>\n",
       "    </tr>\n",
       "    <tr>\n",
       "      <th>1</th>\n",
       "      <td>Deepest sympathies to Congresswoman Debbie Din...</td>\n",
       "    </tr>\n",
       "    <tr>\n",
       "      <th>2</th>\n",
       "      <td>Working hard, thank you! https://t.co/tnuHnw8kll</td>\n",
       "    </tr>\n",
       "    <tr>\n",
       "      <th>3</th>\n",
       "      <td>...It is all a GIANT AND ILLEGAL HOAX, develop...</td>\n",
       "    </tr>\n",
       "    <tr>\n",
       "      <th>4</th>\n",
       "      <td>The mainstream media has refused to cover the ...</td>\n",
       "    </tr>\n",
       "    <tr>\n",
       "      <th>5</th>\n",
       "      <td>Now we find out that Adam Schiff was spending ...</td>\n",
       "    </tr>\n",
       "    <tr>\n",
       "      <th>6</th>\n",
       "      <td>Not only did Senator Burr’s Committee find No ...</td>\n",
       "    </tr>\n",
       "    <tr>\n",
       "      <th>7</th>\n",
       "      <td>Highly respected Senator Richard Burr, Chairma...</td>\n",
       "    </tr>\n",
       "    <tr>\n",
       "      <th>8</th>\n",
       "      <td>So nice how well my State of the Union speech ...</td>\n",
       "    </tr>\n",
       "    <tr>\n",
       "      <th>9</th>\n",
       "      <td>Each year, America pauses to remember its fall...</td>\n",
       "    </tr>\n",
       "  </tbody>\n",
       "</table>\n",
       "</div>"
      ],
      "text/plain": [
       "                                              Tweets\n",
       "0  I was a big fan of Frank Robinson, both as a g...\n",
       "1  Deepest sympathies to Congresswoman Debbie Din...\n",
       "2   Working hard, thank you! https://t.co/tnuHnw8kll\n",
       "3  ...It is all a GIANT AND ILLEGAL HOAX, develop...\n",
       "4  The mainstream media has refused to cover the ...\n",
       "5  Now we find out that Adam Schiff was spending ...\n",
       "6  Not only did Senator Burr’s Committee find No ...\n",
       "7  Highly respected Senator Richard Burr, Chairma...\n",
       "8  So nice how well my State of the Union speech ...\n",
       "9  Each year, America pauses to remember its fall..."
      ]
     },
     "metadata": {},
     "output_type": "display_data"
    }
   ],
   "source": [
    "# We create a pandas dataframe as follows:\n",
    "data = pd.DataFrame(data=[tweet.text for tweet in tweets], columns=['Tweets'])\n",
    "\n",
    "# We display the first 10 elements of the dataframe:\n",
    "display(data.head(10))"
   ]
  },
  {
   "cell_type": "code",
   "execution_count": 25,
   "metadata": {},
   "outputs": [
    {
     "name": "stdout",
     "output_type": "stream",
     "text": [
      "['__class__', '__delattr__', '__dict__', '__dir__', '__doc__', '__eq__', '__format__', '__ge__', '__getattribute__', '__getstate__', '__gt__', '__hash__', '__init__', '__init_subclass__', '__le__', '__lt__', '__module__', '__ne__', '__new__', '__reduce__', '__reduce_ex__', '__repr__', '__setattr__', '__sizeof__', '__str__', '__subclasshook__', '__weakref__', '_api', '_json', 'author', 'contributors', 'coordinates', 'created_at', 'destroy', 'entities', 'favorite', 'favorite_count', 'favorited', 'geo', 'id', 'id_str', 'in_reply_to_screen_name', 'in_reply_to_status_id', 'in_reply_to_status_id_str', 'in_reply_to_user_id', 'in_reply_to_user_id_str', 'is_quote_status', 'lang', 'parse', 'parse_list', 'place', 'retweet', 'retweet_count', 'retweeted', 'retweets', 'source', 'source_url', 'text', 'truncated', 'user']\n"
     ]
    }
   ],
   "source": [
    "# Internal methods of a single tweet object:\n",
    "print(dir(tweets[0]))"
   ]
  },
  {
   "cell_type": "code",
   "execution_count": 26,
   "metadata": {},
   "outputs": [
    {
     "name": "stdout",
     "output_type": "stream",
     "text": [
      "1093966532558929922\n",
      "2019-02-08 20:15:20\n",
      "Twitter for iPhone\n",
      "56602\n",
      "9666\n",
      "None\n",
      "None\n",
      "{'hashtags': [], 'symbols': [], 'user_mentions': [], 'urls': [{'url': 'https://t.co/Nhe4v705Gr', 'expanded_url': 'https://twitter.com/i/web/status/1093966532558929922', 'display_url': 'twitter.com/i/web/status/1…', 'indices': [117, 140]}]}\n"
     ]
    }
   ],
   "source": [
    "# We print info from the first tweet:\n",
    "print(tweets[0].id)\n",
    "print(tweets[0].created_at)\n",
    "print(tweets[0].source)\n",
    "print(tweets[0].favorite_count)\n",
    "print(tweets[0].retweet_count)\n",
    "print(tweets[0].geo)\n",
    "print(tweets[0].coordinates)\n",
    "print(tweets[0].entities)"
   ]
  },
  {
   "cell_type": "code",
   "execution_count": 27,
   "metadata": {},
   "outputs": [],
   "source": [
    "# We add relevant data:\n",
    "data['len']  = np.array([len(tweet.text) for tweet in tweets])\n",
    "data['ID']   = np.array([tweet.id for tweet in tweets])\n",
    "data['Date'] = np.array([tweet.created_at for tweet in tweets])\n",
    "data['Source'] = np.array([tweet.source for tweet in tweets])\n",
    "data['Likes']  = np.array([tweet.favorite_count for tweet in tweets])\n",
    "data['RTs']    = np.array([tweet.retweet_count for tweet in tweets])"
   ]
  },
  {
   "cell_type": "code",
   "execution_count": 28,
   "metadata": {},
   "outputs": [
    {
     "data": {
      "text/html": [
       "<div>\n",
       "<style scoped>\n",
       "    .dataframe tbody tr th:only-of-type {\n",
       "        vertical-align: middle;\n",
       "    }\n",
       "\n",
       "    .dataframe tbody tr th {\n",
       "        vertical-align: top;\n",
       "    }\n",
       "\n",
       "    .dataframe thead th {\n",
       "        text-align: right;\n",
       "    }\n",
       "</style>\n",
       "<table border=\"1\" class=\"dataframe\">\n",
       "  <thead>\n",
       "    <tr style=\"text-align: right;\">\n",
       "      <th></th>\n",
       "      <th>Tweets</th>\n",
       "      <th>len</th>\n",
       "      <th>ID</th>\n",
       "      <th>Date</th>\n",
       "      <th>Source</th>\n",
       "      <th>Likes</th>\n",
       "      <th>RTs</th>\n",
       "    </tr>\n",
       "  </thead>\n",
       "  <tbody>\n",
       "    <tr>\n",
       "      <th>0</th>\n",
       "      <td>I was a big fan of Frank Robinson, both as a g...</td>\n",
       "      <td>140</td>\n",
       "      <td>1093966532558929922</td>\n",
       "      <td>2019-02-08 20:15:20</td>\n",
       "      <td>Twitter for iPhone</td>\n",
       "      <td>56602</td>\n",
       "      <td>9666</td>\n",
       "    </tr>\n",
       "    <tr>\n",
       "      <th>1</th>\n",
       "      <td>Deepest sympathies to Congresswoman Debbie Din...</td>\n",
       "      <td>140</td>\n",
       "      <td>1093965968253087744</td>\n",
       "      <td>2019-02-08 20:13:06</td>\n",
       "      <td>Twitter for iPhone</td>\n",
       "      <td>31553</td>\n",
       "      <td>5667</td>\n",
       "    </tr>\n",
       "    <tr>\n",
       "      <th>2</th>\n",
       "      <td>Working hard, thank you! https://t.co/tnuHnw8kll</td>\n",
       "      <td>48</td>\n",
       "      <td>1093965250142056448</td>\n",
       "      <td>2019-02-08 20:10:15</td>\n",
       "      <td>Twitter for iPhone</td>\n",
       "      <td>46046</td>\n",
       "      <td>10395</td>\n",
       "    </tr>\n",
       "    <tr>\n",
       "      <th>3</th>\n",
       "      <td>...It is all a GIANT AND ILLEGAL HOAX, develop...</td>\n",
       "      <td>140</td>\n",
       "      <td>1093871865246961666</td>\n",
       "      <td>2019-02-08 13:59:10</td>\n",
       "      <td>Twitter for iPhone</td>\n",
       "      <td>99312</td>\n",
       "      <td>22097</td>\n",
       "    </tr>\n",
       "    <tr>\n",
       "      <th>4</th>\n",
       "      <td>The mainstream media has refused to cover the ...</td>\n",
       "      <td>140</td>\n",
       "      <td>1093869087908941827</td>\n",
       "      <td>2019-02-08 13:48:08</td>\n",
       "      <td>Twitter for iPhone</td>\n",
       "      <td>74274</td>\n",
       "      <td>20612</td>\n",
       "    </tr>\n",
       "    <tr>\n",
       "      <th>5</th>\n",
       "      <td>Now we find out that Adam Schiff was spending ...</td>\n",
       "      <td>140</td>\n",
       "      <td>1093867361713704960</td>\n",
       "      <td>2019-02-08 13:41:16</td>\n",
       "      <td>Twitter for iPhone</td>\n",
       "      <td>68446</td>\n",
       "      <td>22700</td>\n",
       "    </tr>\n",
       "    <tr>\n",
       "      <th>6</th>\n",
       "      <td>Not only did Senator Burr’s Committee find No ...</td>\n",
       "      <td>140</td>\n",
       "      <td>1093847784573280256</td>\n",
       "      <td>2019-02-08 12:23:29</td>\n",
       "      <td>Twitter for iPhone</td>\n",
       "      <td>69312</td>\n",
       "      <td>18348</td>\n",
       "    </tr>\n",
       "    <tr>\n",
       "      <th>7</th>\n",
       "      <td>Highly respected Senator Richard Burr, Chairma...</td>\n",
       "      <td>140</td>\n",
       "      <td>1093692376093216769</td>\n",
       "      <td>2019-02-08 02:05:56</td>\n",
       "      <td>Twitter for iPhone</td>\n",
       "      <td>134799</td>\n",
       "      <td>31542</td>\n",
       "    </tr>\n",
       "    <tr>\n",
       "      <th>8</th>\n",
       "      <td>So nice how well my State of the Union speech ...</td>\n",
       "      <td>77</td>\n",
       "      <td>1093661397769248769</td>\n",
       "      <td>2019-02-08 00:02:51</td>\n",
       "      <td>Twitter for iPhone</td>\n",
       "      <td>188564</td>\n",
       "      <td>27061</td>\n",
       "    </tr>\n",
       "    <tr>\n",
       "      <th>9</th>\n",
       "      <td>Each year, America pauses to remember its fall...</td>\n",
       "      <td>140</td>\n",
       "      <td>1093661112724262912</td>\n",
       "      <td>2019-02-08 00:01:43</td>\n",
       "      <td>Twitter for iPhone</td>\n",
       "      <td>64789</td>\n",
       "      <td>13152</td>\n",
       "    </tr>\n",
       "  </tbody>\n",
       "</table>\n",
       "</div>"
      ],
      "text/plain": [
       "                                              Tweets  len  \\\n",
       "0  I was a big fan of Frank Robinson, both as a g...  140   \n",
       "1  Deepest sympathies to Congresswoman Debbie Din...  140   \n",
       "2   Working hard, thank you! https://t.co/tnuHnw8kll   48   \n",
       "3  ...It is all a GIANT AND ILLEGAL HOAX, develop...  140   \n",
       "4  The mainstream media has refused to cover the ...  140   \n",
       "5  Now we find out that Adam Schiff was spending ...  140   \n",
       "6  Not only did Senator Burr’s Committee find No ...  140   \n",
       "7  Highly respected Senator Richard Burr, Chairma...  140   \n",
       "8  So nice how well my State of the Union speech ...   77   \n",
       "9  Each year, America pauses to remember its fall...  140   \n",
       "\n",
       "                    ID                Date              Source   Likes    RTs  \n",
       "0  1093966532558929922 2019-02-08 20:15:20  Twitter for iPhone   56602   9666  \n",
       "1  1093965968253087744 2019-02-08 20:13:06  Twitter for iPhone   31553   5667  \n",
       "2  1093965250142056448 2019-02-08 20:10:15  Twitter for iPhone   46046  10395  \n",
       "3  1093871865246961666 2019-02-08 13:59:10  Twitter for iPhone   99312  22097  \n",
       "4  1093869087908941827 2019-02-08 13:48:08  Twitter for iPhone   74274  20612  \n",
       "5  1093867361713704960 2019-02-08 13:41:16  Twitter for iPhone   68446  22700  \n",
       "6  1093847784573280256 2019-02-08 12:23:29  Twitter for iPhone   69312  18348  \n",
       "7  1093692376093216769 2019-02-08 02:05:56  Twitter for iPhone  134799  31542  \n",
       "8  1093661397769248769 2019-02-08 00:02:51  Twitter for iPhone  188564  27061  \n",
       "9  1093661112724262912 2019-02-08 00:01:43  Twitter for iPhone   64789  13152  "
      ]
     },
     "metadata": {},
     "output_type": "display_data"
    }
   ],
   "source": [
    "# Display of first 10 elements from dataframe:\n",
    "display(data.head(10))"
   ]
  },
  {
   "cell_type": "code",
   "execution_count": 29,
   "metadata": {},
   "outputs": [
    {
     "name": "stdout",
     "output_type": "stream",
     "text": [
      "The lenght's average in tweets: 122.965\n"
     ]
    }
   ],
   "source": [
    "# We extract the mean of lenghts:\n",
    "mean = np.mean(data['len'])\n",
    "\n",
    "print(\"The lenght's average in tweets: {}\".format(mean))"
   ]
  },
  {
   "cell_type": "code",
   "execution_count": 30,
   "metadata": {},
   "outputs": [
    {
     "name": "stdout",
     "output_type": "stream",
     "text": [
      "The tweet with more likes is: \n",
      "Numerous states introducing Bible Literacy classes, giving students the option of studying the Bible. Starting to make a turn back? Great!\n",
      "Number of likes: 256420\n",
      "138 characters.\n",
      "\n",
      "The tweet with more retweets is: \n",
      "The citizens of Venezuela have suffered for too long at the hands of the illegitimate Maduro regime. Today, I have… https://t.co/6pcpLqVzaQ\n",
      "Number of retweets: 81143\n",
      "139 characters.\n",
      "\n"
     ]
    }
   ],
   "source": [
    "# We extract the tweet with more FAVs and more RTs:\n",
    "\n",
    "fav_max = np.max(data['Likes'])\n",
    "rt_max  = np.max(data['RTs'])\n",
    "\n",
    "fav = data[data.Likes == fav_max].index[0]\n",
    "rt  = data[data.RTs == rt_max].index[0]\n",
    "\n",
    "# Max FAVs:\n",
    "print(\"The tweet with more likes is: \\n{}\".format(data['Tweets'][fav]))\n",
    "print(\"Number of likes: {}\".format(fav_max))\n",
    "print(\"{} characters.\\n\".format(data['len'][fav]))\n",
    "\n",
    "# Max RTs:\n",
    "print(\"The tweet with more retweets is: \\n{}\".format(data['Tweets'][rt]))\n",
    "print(\"Number of retweets: {}\".format(rt_max))\n",
    "print(\"{} characters.\\n\".format(data['len'][rt]))"
   ]
  },
  {
   "cell_type": "code",
   "execution_count": 31,
   "metadata": {},
   "outputs": [],
   "source": [
    "# We create time series for data:\n",
    "\n",
    "tlen = pd.Series(data=data['len'].values, index=data['Date'])\n",
    "tfav = pd.Series(data=data['Likes'].values, index=data['Date'])\n",
    "tret = pd.Series(data=data['RTs'].values, index=data['Date'])"
   ]
  },
  {
   "cell_type": "code",
   "execution_count": 32,
   "metadata": {},
   "outputs": [
    {
     "data": {
      "image/png": "[encoded data removed]",
      "text/plain": [
       "<Figure size 1152x288 with 1 Axes>"
      ]
     },
     "metadata": {
      "needs_background": "light"
     },
     "output_type": "display_data"
    }
   ],
   "source": [
    "# Lenghts along time:\n",
    "tlen.plot(figsize=(16,4), color='r');"
   ]
  },
  {
   "cell_type": "code",
   "execution_count": 33,
   "metadata": {},
   "outputs": [
    {
     "data": {
      "image/png": "[encoded data removed]",
      "text/plain": [
       "<Figure size 1152x288 with 1 Axes>"
      ]
     },
     "metadata": {
      "needs_background": "light"
     },
     "output_type": "display_data"
    }
   ],
   "source": [
    "# Likes vs retweets visualization:\n",
    "tfav.plot(figsize=(16,4), label=\"Likes\", legend=True)\n",
    "tret.plot(figsize=(16,4), label=\"Retweets\", legend=True);"
   ]
  },
  {
   "cell_type": "code",
   "execution_count": 34,
   "metadata": {},
   "outputs": [
    {
     "name": "stdout",
     "output_type": "stream",
     "text": [
      "Creation of content sources:\n",
      "* Twitter for iPhone\n"
     ]
    }
   ],
   "source": [
    "# We obtain all possible sources:\n",
    "sources = []\n",
    "for source in data['Source']:\n",
    "    if source not in sources:\n",
    "        sources.append(source)\n",
    "\n",
    "# We print sources list:\n",
    "print(\"Creation of content sources:\")\n",
    "for source in sources:\n",
    "    print(\"* {}\".format(source))"
   ]
  },
  {
   "cell_type": "code",
   "execution_count": 35,
   "metadata": {},
   "outputs": [
    {
     "data": {
      "image/png": "[encoded data removed]",
      "text/plain": [
       "<Figure size 432x432 with 1 Axes>"
      ]
     },
     "metadata": {},
     "output_type": "display_data"
    }
   ],
   "source": [
    "# We create a numpy vector mapped to labels:\n",
    "percent = np.zeros(len(sources))\n",
    "\n",
    "for source in data['Source']:\n",
    "    for index in range(len(sources)):\n",
    "        if source == sources[index]:\n",
    "            percent[index] += 1\n",
    "            pass\n",
    "\n",
    "percent /= 100\n",
    "\n",
    "# Pie chart:\n",
    "pie_chart = pd.Series(percent, index=sources, name='Sources')\n",
    "pie_chart.plot.pie(fontsize=11, autopct='%.2f', figsize=(6, 6));"
   ]
  },
  {
   "cell_type": "markdown",
   "metadata": {},
   "source": [
    "## SENTIMENT ANALYSIS"
   ]
  },
  {
   "cell_type": "code",
   "execution_count": 43,
   "metadata": {},
   "outputs": [],
   "source": [
    "from textblob import TextBlob\n",
    "import re\n",
    "\n",
    "def clean_tweet(tweet):\n",
    "    '''\n",
    "    Utility function to clean the text in a tweet by removing \n",
    "    links and special characters using regex.\n",
    "    '''\n",
    "    return ' '.join(re.sub(\"(@[A-Za-z0-9]+)|([^0-9A-Za-z \\t])|(\\w+:\\/\\/\\S+)\", \" \", tweet).split())\n",
    "\n",
    "def analize_sentiment(tweet):\n",
    "    '''\n",
    "    Utility function to classify the polarity of a tweet\n",
    "    using textblob.\n",
    "    '''\n",
    "    analysis = TextBlob(clean_tweet(tweet))\n",
    "    if analysis.sentiment.polarity > 0:\n",
    "        return 1\n",
    "    elif analysis.sentiment.polarity == 0:\n",
    "        return 0\n",
    "    else:\n",
    "        return -1"
   ]
  },
  {
   "cell_type": "code",
   "execution_count": 44,
   "metadata": {},
   "outputs": [
    {
     "data": {
      "text/html": [
       "<div>\n",
       "<style scoped>\n",
       "    .dataframe tbody tr th:only-of-type {\n",
       "        vertical-align: middle;\n",
       "    }\n",
       "\n",
       "    .dataframe tbody tr th {\n",
       "        vertical-align: top;\n",
       "    }\n",
       "\n",
       "    .dataframe thead th {\n",
       "        text-align: right;\n",
       "    }\n",
       "</style>\n",
       "<table border=\"1\" class=\"dataframe\">\n",
       "  <thead>\n",
       "    <tr style=\"text-align: right;\">\n",
       "      <th></th>\n",
       "      <th>Tweets</th>\n",
       "      <th>len</th>\n",
       "      <th>ID</th>\n",
       "      <th>Date</th>\n",
       "      <th>Source</th>\n",
       "      <th>Likes</th>\n",
       "      <th>RTs</th>\n",
       "      <th>SA</th>\n",
       "    </tr>\n",
       "  </thead>\n",
       "  <tbody>\n",
       "    <tr>\n",
       "      <th>0</th>\n",
       "      <td>I was a big fan of Frank Robinson, both as a g...</td>\n",
       "      <td>140</td>\n",
       "      <td>1093966532558929922</td>\n",
       "      <td>2019-02-08 20:15:20</td>\n",
       "      <td>Twitter for iPhone</td>\n",
       "      <td>56602</td>\n",
       "      <td>9666</td>\n",
       "      <td>1</td>\n",
       "    </tr>\n",
       "    <tr>\n",
       "      <th>1</th>\n",
       "      <td>Deepest sympathies to Congresswoman Debbie Din...</td>\n",
       "      <td>140</td>\n",
       "      <td>1093965968253087744</td>\n",
       "      <td>2019-02-08 20:13:06</td>\n",
       "      <td>Twitter for iPhone</td>\n",
       "      <td>31553</td>\n",
       "      <td>5667</td>\n",
       "      <td>0</td>\n",
       "    </tr>\n",
       "    <tr>\n",
       "      <th>2</th>\n",
       "      <td>Working hard, thank you! https://t.co/tnuHnw8kll</td>\n",
       "      <td>48</td>\n",
       "      <td>1093965250142056448</td>\n",
       "      <td>2019-02-08 20:10:15</td>\n",
       "      <td>Twitter for iPhone</td>\n",
       "      <td>46046</td>\n",
       "      <td>10395</td>\n",
       "      <td>-1</td>\n",
       "    </tr>\n",
       "    <tr>\n",
       "      <th>3</th>\n",
       "      <td>...It is all a GIANT AND ILLEGAL HOAX, develop...</td>\n",
       "      <td>140</td>\n",
       "      <td>1093871865246961666</td>\n",
       "      <td>2019-02-08 13:59:10</td>\n",
       "      <td>Twitter for iPhone</td>\n",
       "      <td>99312</td>\n",
       "      <td>22097</td>\n",
       "      <td>-1</td>\n",
       "    </tr>\n",
       "    <tr>\n",
       "      <th>4</th>\n",
       "      <td>The mainstream media has refused to cover the ...</td>\n",
       "      <td>140</td>\n",
       "      <td>1093869087908941827</td>\n",
       "      <td>2019-02-08 13:48:08</td>\n",
       "      <td>Twitter for iPhone</td>\n",
       "      <td>74274</td>\n",
       "      <td>20612</td>\n",
       "      <td>1</td>\n",
       "    </tr>\n",
       "    <tr>\n",
       "      <th>5</th>\n",
       "      <td>Now we find out that Adam Schiff was spending ...</td>\n",
       "      <td>140</td>\n",
       "      <td>1093867361713704960</td>\n",
       "      <td>2019-02-08 13:41:16</td>\n",
       "      <td>Twitter for iPhone</td>\n",
       "      <td>68446</td>\n",
       "      <td>22700</td>\n",
       "      <td>0</td>\n",
       "    </tr>\n",
       "    <tr>\n",
       "      <th>6</th>\n",
       "      <td>Not only did Senator Burr’s Committee find No ...</td>\n",
       "      <td>140</td>\n",
       "      <td>1093847784573280256</td>\n",
       "      <td>2019-02-08 12:23:29</td>\n",
       "      <td>Twitter for iPhone</td>\n",
       "      <td>69312</td>\n",
       "      <td>18348</td>\n",
       "      <td>1</td>\n",
       "    </tr>\n",
       "    <tr>\n",
       "      <th>7</th>\n",
       "      <td>Highly respected Senator Richard Burr, Chairma...</td>\n",
       "      <td>140</td>\n",
       "      <td>1093692376093216769</td>\n",
       "      <td>2019-02-08 02:05:56</td>\n",
       "      <td>Twitter for iPhone</td>\n",
       "      <td>134799</td>\n",
       "      <td>31542</td>\n",
       "      <td>1</td>\n",
       "    </tr>\n",
       "    <tr>\n",
       "      <th>8</th>\n",
       "      <td>So nice how well my State of the Union speech ...</td>\n",
       "      <td>77</td>\n",
       "      <td>1093661397769248769</td>\n",
       "      <td>2019-02-08 00:02:51</td>\n",
       "      <td>Twitter for iPhone</td>\n",
       "      <td>188564</td>\n",
       "      <td>27061</td>\n",
       "      <td>1</td>\n",
       "    </tr>\n",
       "    <tr>\n",
       "      <th>9</th>\n",
       "      <td>Each year, America pauses to remember its fall...</td>\n",
       "      <td>140</td>\n",
       "      <td>1093661112724262912</td>\n",
       "      <td>2019-02-08 00:01:43</td>\n",
       "      <td>Twitter for iPhone</td>\n",
       "      <td>64789</td>\n",
       "      <td>13152</td>\n",
       "      <td>1</td>\n",
       "    </tr>\n",
       "  </tbody>\n",
       "</table>\n",
       "</div>"
      ],
      "text/plain": [
       "                                              Tweets  len  \\\n",
       "0  I was a big fan of Frank Robinson, both as a g...  140   \n",
       "1  Deepest sympathies to Congresswoman Debbie Din...  140   \n",
       "2   Working hard, thank you! https://t.co/tnuHnw8kll   48   \n",
       "3  ...It is all a GIANT AND ILLEGAL HOAX, develop...  140   \n",
       "4  The mainstream media has refused to cover the ...  140   \n",
       "5  Now we find out that Adam Schiff was spending ...  140   \n",
       "6  Not only did Senator Burr’s Committee find No ...  140   \n",
       "7  Highly respected Senator Richard Burr, Chairma...  140   \n",
       "8  So nice how well my State of the Union speech ...   77   \n",
       "9  Each year, America pauses to remember its fall...  140   \n",
       "\n",
       "                    ID                Date              Source   Likes    RTs  \\\n",
       "0  1093966532558929922 2019-02-08 20:15:20  Twitter for iPhone   56602   9666   \n",
       "1  1093965968253087744 2019-02-08 20:13:06  Twitter for iPhone   31553   5667   \n",
       "2  1093965250142056448 2019-02-08 20:10:15  Twitter for iPhone   46046  10395   \n",
       "3  1093871865246961666 2019-02-08 13:59:10  Twitter for iPhone   99312  22097   \n",
       "4  1093869087908941827 2019-02-08 13:48:08  Twitter for iPhone   74274  20612   \n",
       "5  1093867361713704960 2019-02-08 13:41:16  Twitter for iPhone   68446  22700   \n",
       "6  1093847784573280256 2019-02-08 12:23:29  Twitter for iPhone   69312  18348   \n",
       "7  1093692376093216769 2019-02-08 02:05:56  Twitter for iPhone  134799  31542   \n",
       "8  1093661397769248769 2019-02-08 00:02:51  Twitter for iPhone  188564  27061   \n",
       "9  1093661112724262912 2019-02-08 00:01:43  Twitter for iPhone   64789  13152   \n",
       "\n",
       "   SA  \n",
       "0   1  \n",
       "1   0  \n",
       "2  -1  \n",
       "3  -1  \n",
       "4   1  \n",
       "5   0  \n",
       "6   1  \n",
       "7   1  \n",
       "8   1  \n",
       "9   1  "
      ]
     },
     "metadata": {},
     "output_type": "display_data"
    }
   ],
   "source": [
    "# We create a column with the result of the analysis:\n",
    "data['SA'] = np.array([ analize_sentiment(tweet) for tweet in data['Tweets'] ])\n",
    "\n",
    "# We display the updated dataframe with the new column:\n",
    "display(data.head(10))"
   ]
  },
  {
   "cell_type": "code",
   "execution_count": 45,
   "metadata": {},
   "outputs": [],
   "source": [
    "# We construct lists with classified tweets:\n",
    "\n",
    "pos_tweets = [ tweet for index, tweet in enumerate(data['Tweets']) if data['SA'][index] > 0]\n",
    "neu_tweets = [ tweet for index, tweet in enumerate(data['Tweets']) if data['SA'][index] == 0]\n",
    "neg_tweets = [ tweet for index, tweet in enumerate(data['Tweets']) if data['SA'][index] < 0]"
   ]
  },
  {
   "cell_type": "code",
   "execution_count": 46,
   "metadata": {},
   "outputs": [
    {
     "name": "stdout",
     "output_type": "stream",
     "text": [
      "Percentage of positive tweets: 50.5%\n",
      "Percentage of neutral tweets: 30.5%\n",
      "Percentage de negative tweets: 19.0%\n"
     ]
    }
   ],
   "source": [
    "# We print percentages:\n",
    "\n",
    "print(\"Percentage of positive tweets: {}%\".format(len(pos_tweets)*100/len(data['Tweets'])))\n",
    "print(\"Percentage of neutral tweets: {}%\".format(len(neu_tweets)*100/len(data['Tweets'])))\n",
    "print(\"Percentage de negative tweets: {}%\".format(len(neg_tweets)*100/len(data['Tweets'])))"
   ]
  }
 ],
 "metadata": {
  "kernelspec": {
   "display_name": "Python 3",
   "language": "python",
   "name": "python3"
  },
  "language_info": {
   "codemirror_mode": {
    "name": "ipython",
    "version": 3
   },
   "file_extension": ".py",
   "mimetype": "text/x-python",
   "name": "python",
   "nbconvert_exporter": "python",
   "pygments_lexer": "ipython3",
   "version": "3.6.8"
  }
 },
 "nbformat": 4,
 "nbformat_minor": 2
}
